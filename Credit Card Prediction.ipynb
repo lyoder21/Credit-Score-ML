{
 "cells": [
  {
   "cell_type": "markdown",
   "id": "be404f5b",
   "metadata": {},
   "source": [
    "# Load Modules and Data"
   ]
  },
  {
   "cell_type": "code",
   "execution_count": 126,
   "id": "48a3b2bb",
   "metadata": {},
   "outputs": [
    {
     "data": {
      "text/html": [
       "<script>\n",
       "code_show=true; \n",
       "function code_toggle() {\n",
       "    if (code_show){\n",
       "        $('div.cell.code_cell.rendered.selected div.input').hide();\n",
       "    } else {\n",
       "        $('div.cell.code_cell.rendered.selected div.input').show();\n",
       "    }\n",
       "    code_show = !code_show\n",
       "} \n",
       "$( document ).ready(code_toggle);\n",
       "</script>\n",
       "To show all import functions, click <a href=\"javascript:code_toggle()\">here</a>."
      ],
      "text/plain": [
       "<IPython.core.display.HTML object>"
      ]
     },
     "metadata": {},
     "output_type": "display_data"
    }
   ],
   "source": [
    "# Taken from https://stackoverflow.com/questions/31517194/how-to-hide-one-specific-cell-input-or-output-in-ipython-notebook\n",
    "tag = HTML('''<script>\n",
    "code_show=true; \n",
    "function code_toggle() {\n",
    "    if (code_show){\n",
    "        $('div.cell.code_cell.rendered.selected div.input').hide();\n",
    "    } else {\n",
    "        $('div.cell.code_cell.rendered.selected div.input').show();\n",
    "    }\n",
    "    code_show = !code_show\n",
    "} \n",
    "$( document ).ready(code_toggle);\n",
    "</script>\n",
    "To show all import functions, click <a href=\"javascript:code_toggle()\">here</a>.''')\n",
    "display(tag)\n",
    "\n",
    "############### Write code below ##################\n",
    "\n",
    "import pandas as pd\n",
    "import numpy as np\n",
    "import sklearn as skl\n",
    "import matplotlib.pyplot as plt\n",
    "import tabulate as tab\n",
    "import seaborn as sb\n",
    "\n",
    "from sklearn.metrics import jaccard_score\n",
    "from sklearn import linear_model\n",
    "from sklearn.model_selection import train_test_split\n",
    "from sklearn.preprocessing import OrdinalEncoder\n",
    "from sklearn.linear_model import LogisticRegression\n",
    "from sklearn.metrics import confusion_matrix\n",
    "from sklearn.metrics import ConfusionMatrixDisplay\n",
    "from sklearn import metrics\n",
    "\n",
    "from IPython.display import HTML\n",
    "from IPython.display import display"
   ]
  },
  {
   "cell_type": "code",
   "execution_count": 2,
   "id": "4fb230ff",
   "metadata": {},
   "outputs": [],
   "source": [
    "with open(\"credit_record.csv\") as f:\n",
    "    credit_record = f.read_csv()\n",
    "\n",
    "with open(\"application_record.csv\") as f:\n",
    "    application_record = f.read_csv()\n"
   ]
  },
  {
   "cell_type": "markdown",
   "id": "3c476cfa",
   "metadata": {},
   "source": [
    "# Preprocessing\n",
    "The data is split between two different files, so they need to be combined. Also, I need to create a variable which labels each account as either good or bad based on whether it defaulted. I also need to code categorical data so that it can be used in models."
   ]
  },
  {
   "cell_type": "code",
   "execution_count": 139,
   "id": "4cdaba23",
   "metadata": {},
   "outputs": [],
   "source": [
    "credit_wide = credit_record.pivot(index = 'ID', columns = \"MONTHS_BALANCE\", values = \"STATUS\")\n",
    "credit_wide = pd.DataFrame(credit_wide)\n",
    "\n",
    "grouped_credit = credit_record.groupby('ID') #group the credit data by ID\n",
    "credit_wide['final_month'] = grouped_credit['MONTHS_BALANCE'].max()#create variable with the final month for each account\n",
    "credit_wide['start_month'] = grouped_credit['MONTHS_BALANCE'].min() #create variable with the starting month for each account\n",
    "\n",
    "credit_thin = credit_wide.loc[:, credit_wide.columns.isin(['ID', 'final_month', 'start_month'])]\n",
    "credit_thin = credit_thin.assign(open_window = credit_thin.final_month - credit_thin.start_month) #calculate how many months the acocunt was open for\n",
    "credit_thin.columns.values\n",
    "credit_thin = credit_thin[credit_thin['open_window'] > 4] #remove account that have been open less than 4 months\n",
    "\n"
   ]
  },
  {
   "cell_type": "code",
   "execution_count": 4,
   "id": "383576cf",
   "metadata": {},
   "outputs": [],
   "source": [
    "credit_full = pd.merge(credit_thin, credit_record, on = 'ID')\n",
    "\n",
    "credit_full['bad'] = np.where(((credit_full['STATUS'] == '2')| (credit_full['STATUS'] == '3')| (credit_full['STATUS'] == '4') |(credit_full['STATUS'] =='5')), 1, 0) # bad is 1 if the account is overdue and good if it is 0\n",
    "credit_full['bad'] = credit_full['bad'].astype(np.int8)\n",
    "\n",
    "grouped_credit = credit_full.groupby('ID')\n",
    "max_bad = grouped_credit.max('bad')\n",
    "credit_full = max_bad.reset_index()\n"
   ]
  },
  {
   "cell_type": "code",
   "execution_count": 93,
   "id": "2252c6ae",
   "metadata": {},
   "outputs": [],
   "source": [
    "full_data = pd.merge(credit_full, application_record, on = 'ID') #join the application record and credit record data by ID"
   ]
  },
  {
   "cell_type": "code",
   "execution_count": 92,
   "id": "9cda43cf",
   "metadata": {},
   "outputs": [
    {
     "data": {
      "text/plain": [
       "ID                     False\n",
       "final_month            False\n",
       "start_month            False\n",
       "open_window            False\n",
       "MONTHS_BALANCE         False\n",
       "bad                    False\n",
       "CODE_GENDER            False\n",
       "FLAG_OWN_CAR           False\n",
       "FLAG_OWN_REALTY        False\n",
       "CNT_CHILDREN           False\n",
       "AMT_INCOME_TOTAL       False\n",
       "NAME_INCOME_TYPE       False\n",
       "NAME_EDUCATION_TYPE    False\n",
       "NAME_FAMILY_STATUS     False\n",
       "NAME_HOUSING_TYPE      False\n",
       "DAYS_BIRTH             False\n",
       "DAYS_EMPLOYED          False\n",
       "FLAG_MOBIL             False\n",
       "FLAG_WORK_PHONE        False\n",
       "FLAG_PHONE             False\n",
       "FLAG_EMAIL             False\n",
       "OCCUPATION_TYPE         True\n",
       "CNT_FAM_MEMBERS        False\n",
       "dtype: bool"
      ]
     },
     "execution_count": 92,
     "metadata": {},
     "output_type": "execute_result"
    }
   ],
   "source": [
    "#Check to make sure there's not a bunch of NAs\n",
    "print(full_data.isna().any()) #note that only occupation_type contains missing values"
   ]
  },
  {
   "cell_type": "code",
   "execution_count": 7,
   "id": "a64022ba",
   "metadata": {},
   "outputs": [],
   "source": [
    "full_data = full_data.replace(np.nan, 'NaN') #replace np.nan with string Nan so that OrdinalEncoder will work\n",
    "encoder = OrdinalEncoder()\n",
    "cdf = encoder.fit_transform(full_data.loc[:,['CODE_GENDER', 'FLAG_OWN_CAR', 'FLAG_OWN_REALTY', 'NAME_FAMILY_STATUS', 'NAME_HOUSING_TYPE', 'NAME_EDUCATION_TYPE', 'NAME_INCOME_TYPE', 'OCCUPATION_TYPE']]) #NOTE: NaN occupation_type is coded as 12\n",
    "cdf_coded = pd.DataFrame(cdf, columns = ['CODE_GENDER', 'FLAG_OWN_CAR', 'FLAG_OWN_REALTY', 'NAME_FAMILY_STATUS', 'NAME_HOUSING_TYPE', 'NAME_EDUCATION_TYPE', 'NAME_INCOME_TYPE', 'OCCUPATION_TYPE']) \n",
    "int_data = full_data.select_dtypes(include = ['float64', 'int64', 'int8'])\n",
    "cdf_coded['ID'] = int_data['ID']\n",
    "df = pd.merge(int_data, cdf_coded)"
   ]
  },
  {
   "cell_type": "markdown",
   "id": "a403efdc",
   "metadata": {},
   "source": [
    "# Visualizations\n",
    "\n",
    "This first graph is to get an idea of what percent of the accounts in the data set are good versus bad. We can see that this is a very unbalanced data set."
   ]
  },
  {
   "cell_type": "code",
   "execution_count": 146,
   "id": "a6cc703b",
   "metadata": {},
   "outputs": [
    {
     "data": {
      "image/png": "[encoded data removed]",
      "text/plain": [
       "<Figure size 720x360 with 1 Axes>"
      ]
     },
     "metadata": {},
     "output_type": "display_data"
    }
   ],
   "source": [
    "f = sb.countplot(x = \"bad\", data = df)\n",
    "sb.set(font_scale=1.5)\n",
    "f.set_ylim(top = 150000)\n",
    "f.set_xlabel(' ')\n",
    "f.set_ylabel(' ')\n",
    "fig = plt.gcf()\n",
    "fig.set_size_inches(10,5)\n",
    "f.set_ylim(top=35000)\n",
    "\n",
    "\n",
    "plt.show()"
   ]
  },
  {
   "cell_type": "code",
   "execution_count": 124,
   "id": "60239c65",
   "metadata": {},
   "outputs": [
    {
     "data": {
      "text/html": [
       "<script>\n",
       "code_show=true; \n",
       "function code_toggle() {\n",
       "    if (code_show){\n",
       "        $('div.cell.code_cell.rendered.selected div.input').hide();\n",
       "    } else {\n",
       "        $('div.cell.code_cell.rendered.selected div.input').show();\n",
       "    }\n",
       "    code_show = !code_show\n",
       "} \n",
       "$( document ).ready(code_toggle);\n",
       "</script>\n",
       "To show all raw input code, click <a href=\"javascript:code_toggle()\">here</a>."
      ],
      "text/plain": [
       "<IPython.core.display.HTML object>"
      ]
     },
     "metadata": {},
     "output_type": "display_data"
    },
    {
     "data": {
      "image/png": "[encoded data removed]",
      "text/plain": [
       "<Figure size 432x288 with 1 Axes>"
      ]
     },
     "metadata": {
      "needs_background": "light"
     },
     "output_type": "display_data"
    },
    {
     "data": {
      "image/png": "[encoded data removed]",
      "text/plain": [
       "<Figure size 432x288 with 1 Axes>"
      ]
     },
     "metadata": {
      "needs_background": "light"
     },
     "output_type": "display_data"
    },
    {
     "data": {
      "image/png": "[encoded data removed]",
      "text/plain": [
       "<Figure size 432x288 with 1 Axes>"
      ]
     },
     "metadata": {
      "needs_background": "light"
     },
     "output_type": "display_data"
    },
    {
     "data": {
      "image/png": "[encoded data removed]",
      "text/plain": [
       "<Figure size 432x288 with 1 Axes>"
      ]
     },
     "metadata": {
      "needs_background": "light"
     },
     "output_type": "display_data"
    },
    {
     "data": {
      "image/png": "[encoded data removed]",
      "text/plain": [
       "<Figure size 432x288 with 1 Axes>"
      ]
     },
     "metadata": {
      "needs_background": "light"
     },
     "output_type": "display_data"
    }
   ],
   "source": [
    "# Taken from https://stackoverflow.com/questions/31517194/how-to-hide-one-specific-cell-input-or-output-in-ipython-notebook\n",
    "tag = HTML('''<script>\n",
    "code_show=true; \n",
    "function code_toggle() {\n",
    "    if (code_show){\n",
    "        $('div.cell.code_cell.rendered.selected div.input').hide();\n",
    "    } else {\n",
    "        $('div.cell.code_cell.rendered.selected div.input').show();\n",
    "    }\n",
    "    code_show = !code_show\n",
    "} \n",
    "$( document ).ready(code_toggle);\n",
    "</script>\n",
    "To show all raw input code, click <a href=\"javascript:code_toggle()\">here</a>.''')\n",
    "display(tag)\n",
    "\n",
    "############### Write code below ##################\n",
    "\n",
    "#gender\n",
    "female = df[df['CODE_GENDER'] == 0]\n",
    "female_sum = len(female.index)\n",
    "female_bad = len(female[female['bad'] == 1].index)\n",
    "\n",
    "male = df[df['CODE_GENDER'] == 1]\n",
    "male_sum = len(male.index)\n",
    "male_bad = len(male[male['bad'] == 1].index)\n",
    "\n",
    "f1 = plt.figure()\n",
    "plt.bar(['Male', 'Female'], [male_bad*100/male_sum, female_bad*100/female_sum], color = ['skyblue', 'lightcoral'])\n",
    "plt.title(\"Percent Bad Customers\")\n",
    "\n",
    "#flag_own_realty\n",
    "own = df[df['FLAG_OWN_REALTY'] == 1]\n",
    "own_sum = len(own.index)\n",
    "own_bad = len(own[own['bad'] == 1].index)\n",
    "\n",
    "no_own = df[df['FLAG_OWN_REALTY'] == 0]\n",
    "no_own_sum = len(no_own.index)\n",
    "no_own_bad = len(no_own[no_own['bad'] == 1].index)\n",
    "pl3 = plt.figure()\n",
    "plt.bar(['Does Not Own Realty', 'Owns Realty'], [no_own_bad*100/no_own_sum, own_bad*100/own_sum], color = ['skyblue', 'lightcoral'])\n",
    "plt.title(\"Percent Bad Customers\")\n",
    "\n",
    "#flag_own_car\n",
    "owncar = df[df['FLAG_OWN_CAR'] == 1]\n",
    "owncar_sum = len(owncar.index)\n",
    "\n",
    "owncar_bad = len(owncar[owncar['bad'] == 1].index)\n",
    "\n",
    "no_owncar = df[df['FLAG_OWN_CAR'] == 0]\n",
    "no_owncar_sum = len(no_owncar.index)\n",
    "no_owncar_bad = len(no_owncar[no_owncar['bad'] == 1].index)\n",
    "\n",
    "pl1 = plt.figure()\n",
    "plt.bar(['Does Not Own Car', 'Owns Car'], [no_owncar_bad*100/no_owncar_sum, owncar_bad*100/owncar_sum], color = ['skyblue', 'lightcoral'])\n",
    "plt.title(\"Percent Bad Customers\")\n",
    "\n",
    "#AMT_INCOME_TOTAL - bar plot\n",
    "\n",
    "#create income levels\n",
    "min_inc = df['AMT_INCOME_TOTAL'].min()\n",
    "max_inc = df['AMT_INCOME_TOTAL'].max()\n",
    "inc_range = max_inc-min_inc\n",
    "\n",
    "inc_1 = df[df['AMT_INCOME_TOTAL'] <= (min_inc+(0.2*inc_range))]\n",
    "inc_1_sum = len(inc_1.index)\n",
    "inc_1_bad = len(inc_1[inc_1['bad'] == 1].index)\n",
    "inc_2 = df[(df['AMT_INCOME_TOTAL'] <= (min_inc+(0.4*inc_range))) & (df['AMT_INCOME_TOTAL'] > (min_inc+(0.2*inc_range)))]\n",
    "inc_2_sum = len(inc_2.index)\n",
    "inc_2_bad = len(inc_2[inc_2['bad'] == 1].index)\n",
    "inc_3 = df[(df['AMT_INCOME_TOTAL'] <= (min_inc+(0.6*inc_range))) & (df['AMT_INCOME_TOTAL'] > (min_inc+(0.4*inc_range)))]\n",
    "inc_3_sum = len(inc_3.index)\n",
    "inc_3_bad = len(inc_3[inc_3['bad'] == 1].index)\n",
    "inc_4 = df[(df['AMT_INCOME_TOTAL'] <= (min_inc+(0.8*inc_range))) & (df['AMT_INCOME_TOTAL'] > (min_inc+(0.6*inc_range)))]\n",
    "inc_4_sum = len(inc_4.index)\n",
    "inc_4_bad = len(inc_4[inc_4['bad'] == 1].index)\n",
    "inc_5 = df[(df['AMT_INCOME_TOTAL'] > (min_inc+(0.8*inc_range)))]\n",
    "inc_5_sum = len(inc_5.index)\n",
    "inc_5_bad = len(inc_5[inc_5['bad'] == 1].index)\n",
    "\n",
    "pl2 = plt.figure()\n",
    "plt.bar(['1', '2', '3', '4', '5'], [inc_1_bad*100/inc_1_sum, inc_2_bad*100/inc_2_sum, inc_3_bad*100/inc_3_sum, inc_4_bad*100/inc_4_sum, inc_5_bad*100/inc_5_sum], color = ['skyblue'])\n",
    "plt.title(\"Percent Bad Customers by Income Level\")\n",
    "\n",
    "\n",
    "pl5 = plt.figure()\n",
    "densPlot = sb.kdeplot(x=df['AMT_INCOME_TOTAL']/1000, hue = df['bad'], common_norm = False, fill = True)\n",
    "plt.title('Distrubution of Income by Account Status')\n",
    "plt.Axes.set_xlabel(densPlot, xlabel = 'Income in Thousands')\n",
    "\n",
    "plt.show()"
   ]
  },
  {
   "cell_type": "code",
   "execution_count": 12,
   "id": "1ef3890e",
   "metadata": {},
   "outputs": [],
   "source": [
    "data_y = df.loc[:, df.columns.isin(['bad'])] #dependent variable is whether the account is bad\n",
    "#data_x_small = df.loc[:, df.columns.isin(['AMT_INCOME_TOTAL', 'FLAG_OWN_CAR', 'FLAG_OWN_REALTY'])] #select independent variables\n",
    "data_x = df.loc[:, df.columns != 'bad']\n",
    "data_x_small = skl.preprocessing.StandardScaler().fit(data_x).transform(data_x) #normalize the dataset\n",
    "\n",
    "train_x, test_x, train_y, test_y  = train_test_split(data_x_small, data_y, test_size = 0.2, random_state = 99)#split data into train and test sets\n"
   ]
  },
  {
   "cell_type": "markdown",
   "id": "2c80c1b4",
   "metadata": {},
   "source": [
    "# Fit Models "
   ]
  },
  {
   "cell_type": "markdown",
   "id": "7caf16df",
   "metadata": {},
   "source": [
    "## Logistic Regression\n",
    "\n",
    "First I'll try fitting a logistic regression model. Based off of the previous visualizations, it is clear that things like owning realty, owning a car, and income are relevant predictors of whether an account will be good or bad, however, the L1 penalty will help provide a feature selection, so for now I'm keeping all variables in the model."
   ]
  },
  {
   "cell_type": "code",
   "execution_count": 18,
   "id": "df86798c",
   "metadata": {},
   "outputs": [
    {
     "data": {
      "text/plain": [
       "LogisticRegression(C=0.01, class_weight='balanced', penalty='l1',\n",
       "                   solver='liblinear')"
      ]
     },
     "execution_count": 18,
     "metadata": {},
     "output_type": "execute_result"
    }
   ],
   "source": [
    "#fit logistic regression\n",
    "regr = skl.linear_model.LogisticRegression(C=0.01, solver='liblinear', penalty = 'l1', class_weight = \"balanced\")\n",
    "\n",
    "regr.fit(train_x, train_y.values.ravel()) #ravel \"flattens\" the y values into long form\n"
   ]
  },
  {
   "cell_type": "markdown",
   "id": "ec5b126b",
   "metadata": {},
   "source": [
    "*It's important to use class_weight = \"balanced\" because this dataset is extremely unbalanced (ie. there are way more good accounts than bad). The class_weight parameter will weight the importance of correctly identifying a bad account more heavily than the importance of correctly identifying a account. If we didn't do this, then the model would predict every single account as good, because that's the best way to be correct most frequently.*\n",
    "\n",
    "*I chose to go with an L1 penalty, for a few reasons. Firstly, since an L2 penalty takes the square of the weights it is not suitable for a dataset with many outliers, since the outliers could skew the results very quickly. Second, since L1 penalty shrinks weights to zero, rather than just close to zero, it performs a feature selection which is useful in this case where some of the variables might be highly correlated (ie. owning realty and income for example).*"
   ]
  },
  {
   "cell_type": "code",
   "execution_count": 58,
   "id": "6e882acc",
   "metadata": {},
   "outputs": [],
   "source": [
    "y_hat = regr.predict(test_x)\n",
    "y_hat_prob = regr.predict_proba(test_x)"
   ]
  },
  {
   "cell_type": "code",
   "execution_count": 133,
   "id": "7ed1812f",
   "metadata": {},
   "outputs": [
    {
     "name": "stdout",
     "output_type": "stream",
     "text": [
      "Confusion matrix:\n"
     ]
    },
    {
     "data": {
      "text/plain": [
       "<sklearn.metrics._plot.confusion_matrix.ConfusionMatrixDisplay at 0x7f9139d91b80>"
      ]
     },
     "execution_count": 133,
     "metadata": {},
     "output_type": "execute_result"
    },
    {
     "data": {
      "image/png": "[encoded data removed]",
      "text/plain": [
       "<Figure size 432x288 with 2 Axes>"
      ]
     },
     "metadata": {
      "needs_background": "light"
     },
     "output_type": "display_data"
    }
   ],
   "source": [
    "print('Confusion matrix:')\n",
    "ConfusionMatrixDisplay.from_estimator(regr, test_x, test_y)"
   ]
  },
  {
   "cell_type": "code",
   "execution_count": 56,
   "id": "76b31ec1",
   "metadata": {
    "scrolled": true
   },
   "outputs": [
    {
     "name": "stdout",
     "output_type": "stream",
     "text": [
      "Jaccard score: 0.0324\n",
      "Accuracy score: 0.6529\n"
     ]
    }
   ],
   "source": [
    "print(f'Jaccard score: {round(jaccard_score(test_y, y_hat), 4)}')\n",
    "print(f'Accuracy score: {round(metrics.accuracy_score(test_y, y_hat), 4)}')"
   ]
  },
  {
   "cell_type": "markdown",
   "id": "da6490a8",
   "metadata": {},
   "source": [
    "## Classification Tree\n",
    "A classification tree classifies data by creating \"branches\" at each predictore variable."
   ]
  },
  {
   "cell_type": "code",
   "execution_count": 22,
   "id": "33351c3e",
   "metadata": {},
   "outputs": [],
   "source": [
    "from sklearn.tree import DecisionTreeClassifier\n",
    "tree = DecisionTreeClassifier(criterion = \"entropy\", max_depth = 10, class_weight = \"balanced\")"
   ]
  },
  {
   "cell_type": "markdown",
   "id": "931eef07",
   "metadata": {},
   "source": [
    "*Entropy is another word for the amount of disorder. If the classification tree works well, each node will have low entropy because the data will be split such that the two created groups are as purely one category or another as possible (ie. all the bad accounts would be in one group and all the good accounts in the other)*"
   ]
  },
  {
   "cell_type": "code",
   "execution_count": 23,
   "id": "8e11290e",
   "metadata": {},
   "outputs": [
    {
     "data": {
      "text/plain": [
       "DecisionTreeClassifier(class_weight='balanced', criterion='entropy',\n",
       "                       max_depth=10)"
      ]
     },
     "execution_count": 23,
     "metadata": {},
     "output_type": "execute_result"
    }
   ],
   "source": [
    "tree.fit(train_x, train_y)\n",
    "pred = tree.predict(test_x) #Use the model to predict the test x set"
   ]
  },
  {
   "cell_type": "code",
   "execution_count": 138,
   "id": "ef2b71bb",
   "metadata": {},
   "outputs": [
    {
     "name": "stdout",
     "output_type": "stream",
     "text": [
      "Confusion matrix:\n",
      "[[  60   54]\n",
      " [1492 4753]]\n"
     ]
    },
    {
     "data": {
      "text/plain": [
       "<sklearn.metrics._plot.confusion_matrix.ConfusionMatrixDisplay at 0x7f9138dddbe0>"
      ]
     },
     "execution_count": 138,
     "metadata": {},
     "output_type": "execute_result"
    },
    {
     "data": {
      "image/png": "[encoded data removed]",
      "text/plain": [
       "<Figure size 432x288 with 2 Axes>"
      ]
     },
     "metadata": {
      "needs_background": "light"
     },
     "output_type": "display_data"
    }
   ],
   "source": [
    "ConfusionMatrixDisplay.from_estimator(tree, test_x, test_y)"
   ]
  },
  {
   "cell_type": "code",
   "execution_count": 55,
   "id": "6ac8ea12",
   "metadata": {},
   "outputs": [
    {
     "name": "stdout",
     "output_type": "stream",
     "text": [
      "Jaccard score: 0.0374\n",
      "Accuracy score: 0.7569\n"
     ]
    }
   ],
   "source": [
    "print(f'Jaccard score: {round(jaccard_score(test_y, pred), 4)}')\n",
    "print(f'Accuracy: {round(metrics.accuracy_score(test_y, pred), 4)}')"
   ]
  },
  {
   "cell_type": "markdown",
   "id": "80b9a823",
   "metadata": {},
   "source": [
    "## K-Nearest Neighbors\n",
    "K-nearest neighbors classifies cases by finding the k number of most similar labeled cases, and then labeling the unknown case by assuming it falls into the same category as the cases with similar attributes."
   ]
  },
  {
   "cell_type": "code",
   "execution_count": 28,
   "id": "d5b8d266",
   "metadata": {},
   "outputs": [],
   "source": [
    "from sklearn.neighbors import KNeighborsClassifier"
   ]
  },
  {
   "cell_type": "code",
   "execution_count": 33,
   "id": "ab1dda8e",
   "metadata": {},
   "outputs": [],
   "source": [
    "knn = KNeighborsClassifier(n_neighbors = 5, weights = 'uniform')"
   ]
  },
  {
   "cell_type": "code",
   "execution_count": 34,
   "id": "3ee6381f",
   "metadata": {},
   "outputs": [
    {
     "data": {
      "text/plain": [
       "KNeighborsClassifier()"
      ]
     },
     "execution_count": 34,
     "metadata": {},
     "output_type": "execute_result"
    }
   ],
   "source": [
    "knn.fit(train_x, train_y.values.ravel())"
   ]
  },
  {
   "cell_type": "code",
   "execution_count": 35,
   "id": "cfdedf5d",
   "metadata": {},
   "outputs": [],
   "source": [
    "neighbor = knn.predict(test_x)"
   ]
  },
  {
   "cell_type": "code",
   "execution_count": 136,
   "id": "94fe8139",
   "metadata": {
    "scrolled": true
   },
   "outputs": [
    {
     "name": "stdout",
     "output_type": "stream",
     "text": [
      "Confusion matrix:\n",
      "[[   8  106]\n",
      " [   6 6239]]\n",
      "Accuracy score: 0.9824\n",
      "Jaccard score: 0.0667\n"
     ]
    },
    {
     "data": {
      "text/plain": [
       "<sklearn.metrics._plot.confusion_matrix.ConfusionMatrixDisplay at 0x7f9139959be0>"
      ]
     },
     "execution_count": 136,
     "metadata": {},
     "output_type": "execute_result"
    },
    {
     "data": {
      "image/png": "[encoded data removed]",
      "text/plain": [
       "<Figure size 432x288 with 2 Axes>"
      ]
     },
     "metadata": {
      "needs_background": "light"
     },
     "output_type": "display_data"
    }
   ],
   "source": [
    "print('Confusion matrix:')\n",
    "print(skl.metrics.confusion_matrix(test_y, neighbor, labels = [1,0]))\n",
    "print(f'Accuracy score: {round(metrics.accuracy_score(test_y, neighbor), 4)}')\n",
    "print(f'Jaccard score: {round(jaccard_score(test_y, neighbor), 4)}')\n",
    "ConfusionMatrixDisplay.from_estimator(knn, test_x, test_y)"
   ]
  },
  {
   "cell_type": "markdown",
   "id": "05b5c241",
   "metadata": {},
   "source": [
    "A good next step for tuning this model would be to try out different numbers of k-neighbors to see what works best. It also would be a good idea to try using fewer predictor variables in order to avoid overfitting."
   ]
  },
  {
   "cell_type": "markdown",
   "id": "9a9c5907",
   "metadata": {},
   "source": [
    "## Random Forest\n",
    "Random forest classifications basically take the idea behind a decision tree, but ratehr than having one single tree with nodes determined by entropy, this method creates many many trees randomly and then combines the information from all of the trees. In some cases this is more effective than a single classification tree because it does a good job of avoiding overfitting, however a drawback is that it is not as easily interpretable."
   ]
  },
  {
   "cell_type": "code",
   "execution_count": 40,
   "id": "6c85c332",
   "metadata": {},
   "outputs": [],
   "source": [
    "from sklearn.ensemble import RandomForestClassifier"
   ]
  },
  {
   "cell_type": "code",
   "execution_count": 41,
   "id": "e8e2f6d3",
   "metadata": {},
   "outputs": [],
   "source": [
    "randTree = RandomForestClassifier(criterion = 'entropy', random_state = 2)"
   ]
  },
  {
   "cell_type": "code",
   "execution_count": 43,
   "id": "1ee27113",
   "metadata": {},
   "outputs": [
    {
     "data": {
      "text/plain": [
       "RandomForestClassifier(criterion='entropy', random_state=2)"
      ]
     },
     "execution_count": 43,
     "metadata": {},
     "output_type": "execute_result"
    }
   ],
   "source": [
    "randTree.fit(train_x, train_y.values.ravel())"
   ]
  },
  {
   "cell_type": "code",
   "execution_count": 44,
   "id": "bffaec1a",
   "metadata": {},
   "outputs": [],
   "source": [
    "rTree_out = randTree.predict(test_x)"
   ]
  },
  {
   "cell_type": "code",
   "execution_count": 137,
   "id": "b39c9445",
   "metadata": {},
   "outputs": [
    {
     "name": "stdout",
     "output_type": "stream",
     "text": [
      "Confusion matrix:\n",
      "[[   8  106]\n",
      " [   6 6239]]\n",
      "Accuracy score: 0.9824\n",
      "Jaccard score: 0.0667\n"
     ]
    },
    {
     "data": {
      "text/plain": [
       "<sklearn.metrics._plot.confusion_matrix.ConfusionMatrixDisplay at 0x7f91399493d0>"
      ]
     },
     "execution_count": 137,
     "metadata": {},
     "output_type": "execute_result"
    },
    {
     "data": {
      "image/png": "[encoded data removed]",
      "text/plain": [
       "<Figure size 432x288 with 2 Axes>"
      ]
     },
     "metadata": {
      "needs_background": "light"
     },
     "output_type": "display_data"
    }
   ],
   "source": [
    "print('Confusion matrix:')\n",
    "print(skl.metrics.confusion_matrix(test_y, rTree_out, labels = [1,0]))\n",
    "print(f'Accuracy score: {round(metrics.accuracy_score(test_y, rTree_out), 4)}')\n",
    "print(f'Jaccard score: {round(jaccard_score(test_y, rTree_out), 4)}')\n",
    "\n",
    "ConfusionMatrixDisplay.from_estimator(randTree, test_x, test_y)"
   ]
  }
 ],
 "metadata": {
  "celltoolbar": "Tags",
  "kernelspec": {
   "display_name": "Python 3",
   "language": "python",
   "name": "python3"
  },
  "language_info": {
   "codemirror_mode": {
    "name": "ipython",
    "version": 3
   },
   "file_extension": ".py",
   "mimetype": "text/x-python",
   "name": "python",
   "nbconvert_exporter": "python",
   "pygments_lexer": "ipython3",
   "version": "3.8.8"
  }
 },
 "nbformat": 4,
 "nbformat_minor": 5
}
